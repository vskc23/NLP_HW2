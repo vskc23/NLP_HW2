{
  "cells": [
    {
      "cell_type": "code",
      "execution_count": 13,
      "metadata": {
        "colab": {
          "base_uri": "https://localhost:8080/"
        },
        "id": "1c3GZDeLpwLc",
        "outputId": "e4974cfd-7f92-4815-e73b-94b93dd72a5e"
      },
      "outputs": [
        {
          "output_type": "stream",
          "name": "stdout",
          "text": [
            "Drive already mounted at /content/drive; to attempt to forcibly remount, call drive.mount(\"/content/drive\", force_remount=True).\n"
          ]
        }
      ],
      "source": [
        "from google.colab import drive\n",
        "drive.mount('/content/drive')"
      ]
    },
    {
      "cell_type": "code",
      "execution_count": null,
      "metadata": {
        "colab": {
          "base_uri": "https://localhost:8080/"
        },
        "id": "n9-Ce9ZaBLxY",
        "outputId": "9e0bdcb0-725d-44aa-8422-35260a8649dc"
      },
      "outputs": [
        {
          "name": "stdout",
          "output_type": "stream",
          "text": [
            "/content/drive/MyDrive\n"
          ]
        }
      ],
      "source": [
        "\n",
        "%cd /content/drive/MyDrive"
      ]
    },
    {
      "cell_type": "code",
      "execution_count": null,
      "metadata": {
        "id": "K6FB77O6Ds_b"
      },
      "outputs": [],
      "source": [
        "import json\n",
        "import pandas as pd\n",
        "\n",
        "def load_yelp_orig_data():\n",
        "    PATH_TO_YELP_REVIEWS = '/content/drive/MyDrive/yelp_academic_dataset_review.json'\n",
        "\n",
        "    # read the file in chunks and append to a list\n",
        "    data = []\n",
        "    with open(PATH_TO_YELP_REVIEWS, 'r') as f:\n",
        "        for line in f:\n",
        "            data.append(json.loads(line))\n",
        "\n",
        "    # create a DataFrame from the list\n",
        "    data_df = pd.DataFrame(data)\n",
        "\n",
        "    # save the top 100000 rows to a CSV file\n",
        "    data_df.head(100000).to_csv('/content/drive/MyDrive/NLP_HW2' + '/output_reviews_top.csv')\n",
        "\n",
        "load_yelp_orig_data()\n"
      ]
    },
    {
      "cell_type": "code",
      "execution_count": null,
      "metadata": {
        "colab": {
          "base_uri": "https://localhost:8080/"
        },
        "id": "cv146rK7IrRS",
        "outputId": "b1d1d649-9c1d-40bf-94bc-baf13e5e28fb"
      },
      "outputs": [
        {
          "output_type": "stream",
          "name": "stdout",
          "text": [
            "Columns in the original dataset:\n",
            "\n",
            "Index(['Unnamed: 0', 'review_id', 'user_id', 'business_id', 'stars', 'useful',\n",
            "       'funny', 'cool', 'text', 'date'],\n",
            "      dtype='object')\n"
          ]
        }
      ],
      "source": [
        "import pandas as pd\n",
        "top_data_df = pd.read_csv('/content/drive/MyDrive/NLP_HW2' + '/output_reviews_top.csv')\n",
        "print(\"Columns in the original dataset:\\n\")\n",
        "print(top_data_df.columns)\n"
      ]
    },
    {
      "cell_type": "code",
      "execution_count": null,
      "metadata": {
        "colab": {
          "base_uri": "https://localhost:8080/",
          "height": 592
        },
        "id": "VgAMFezsL2YE",
        "outputId": "fd76571b-5603-4874-bf87-65cd3d46f060"
      },
      "outputs": [
        {
          "output_type": "stream",
          "name": "stdout",
          "text": [
            "Number of rows per star rating:\n",
            "5.0    44392\n",
            "4.0    25337\n",
            "3.0    11362\n",
            "1.0    10921\n",
            "2.0     7988\n",
            "Name: stars, dtype: int64\n"
          ]
        },
        {
          "output_type": "display_data",
          "data": {
            "text/plain": [
              "<Figure size 640x480 with 1 Axes>"
            ],
            "image/png": "[encoded data removed]"
          },
          "metadata": {}
        }
      ],
      "source": [
        "import matplotlib.pyplot as plt \n",
        "\n",
        "print(\"Number of rows per star rating:\")\n",
        "print(top_data_df['stars'].value_counts())\n",
        "\n",
        "# Function to map stars to sentiment\n",
        "def map_sentiment(stars_received):\n",
        "    if stars_received <= 2:\n",
        "        return -1\n",
        "    elif stars_received == 3:\n",
        "        return 0\n",
        "    else:\n",
        "        return 1\n",
        "# Mapping stars to sentiment into three categories\n",
        "top_data_df['sentiment'] = [ map_sentiment(x) for x in top_data_df['stars']]\n",
        "# Plotting the sentiment distribution\n",
        "plt.figure()\n",
        "pd.value_counts(top_data_df['sentiment']).plot.bar(title=\"Sentiment distribution in df\")\n",
        "plt.xlabel(\"Sentiment\")\n",
        "plt.ylabel(\"No. of rows in df\")\n",
        "plt.show()"
      ]
    },
    {
      "cell_type": "code",
      "execution_count": null,
      "metadata": {
        "colab": {
          "base_uri": "https://localhost:8080/",
          "height": 772
        },
        "id": "FPOw11N2MJuf",
        "outputId": "656997fe-fdaf-4174-d910-4cea80c57ace"
      },
      "outputs": [
        {
          "output_type": "stream",
          "name": "stdout",
          "text": [
            "After segregating and taking equal number of rows for each sentiment:\n",
            " 1    10000\n",
            "-1    10000\n",
            " 0    10000\n",
            "Name: sentiment, dtype: int64\n"
          ]
        },
        {
          "output_type": "execute_result",
          "data": {
            "text/plain": [
              "    Unnamed: 0               review_id                 user_id  \\\n",
              "1            1  BiTunyQ73aT9WBnpR9DZGw  OyoGAe7OKpv6SyGZT5g77Q   \n",
              "3            3  AqPFMleE6RsU23_auESxiA  _7bHUi9Uuf5__HHc_Q8guQ   \n",
              "4            4  Sx8TMOWLNuJBWer-0pcmoA  bcjbaE6dDog4jkNY91ncLQ   \n",
              "6            6  6AxgBCNX_PNTOxmbRSwcKQ  r3zeYsv1XFBRA4dJpL78cw   \n",
              "7            7  _ZeMknuYdlQcUqng_Im3yg  yfFzsLmaWF2d4Sr0UNbBgg   \n",
              "10          10  rGQRf8UafX7OTlMNN19I8A  1WHRWwQmZOZDAhp2Qyny4g   \n",
              "11          11  l3Wk_mvAog6XANIuGQ9C7Q  ZbqSHbgCjzVAqaa7NKWn5A   \n",
              "12          12  XW_LfMv0fV21l9c6xQd_lw  9OAtfnWag-ajVxRbUTGIyg   \n",
              "13          13  8JFGBuHMoiNDyfcxuWNtrA  smOvOajNG0lS4Pq7d8g4JQ   \n",
              "14          14  UBp0zWyH60Hmw6Fsasei7w  4Uh27DgGzsp6PqrH913giQ   \n",
              "\n",
              "               business_id  stars  useful  funny  cool  \\\n",
              "1   7ATYjTIgM3jUlt4UM3IypQ    5.0       1      0     1   \n",
              "3   kxX2SOes4o-D3ZQBkiMRfA    5.0       1      0     1   \n",
              "4   e4Vwtrqf-wpJfwesgvdgxQ    4.0       1      0     1   \n",
              "6   gmjsEdUsKpj9Xxu6pdjH0g    5.0       0      2     0   \n",
              "7   LHSTtnW3YHCeUkRDGyJOyw    5.0       2      0     0   \n",
              "10  uMvVYRgGNXf5boolA9HXTw    5.0       2      0     0   \n",
              "11  EQ-TZ2eeD_E0BHuvoaeG5Q    4.0       0      0     0   \n",
              "12  lj-E32x9_FA7GmUrBGBEWg    4.0       0      0     0   \n",
              "13  RZtGWDLCAtuipwaZ-UfjmQ    4.0       0      0     0   \n",
              "14  otQS34_MymijPTdNBoBdCw    4.0       0      2     0   \n",
              "\n",
              "                                                 text                 date  \\\n",
              "1   I've taken a lot of spin classes over the year...  2012-01-03 15:28:18   \n",
              "3   Wow!  Yummy, different,  delicious.   Our favo...  2015-01-04 00:01:03   \n",
              "4   Cute interior and owner (?) gave us tour of up...  2017-01-14 20:54:15   \n",
              "6   Loved this tour! I grabbed a groupon and the p...  2015-01-03 23:21:18   \n",
              "7   Amazingly amazing wings and homemade bleu chee...  2015-08-07 02:29:16   \n",
              "10  My experience with Shalimar was nothing but wo...  2015-06-21 14:48:06   \n",
              "11  Locals recommended Milktooth, and it's an amaz...  2015-08-19 14:31:45   \n",
              "12  Love going here for happy hour or dinner!  Gre...  2014-06-27 22:44:01   \n",
              "13  Good food--loved the gnocchi with marinara\\nth...  2009-10-14 19:57:14   \n",
              "14  The bun makes the Sonoran Dog. It's like a snu...  2011-10-27 17:12:05   \n",
              "\n",
              "    sentiment  \n",
              "1           1  \n",
              "3           1  \n",
              "4           1  \n",
              "6           1  \n",
              "7           1  \n",
              "10          1  \n",
              "11          1  \n",
              "12          1  \n",
              "13          1  \n",
              "14          1  "
            ],
            "text/html": [
              "\n",
              "  <div id=\"df-2be0a9cb-3b59-4b2f-96aa-400f1837a106\">\n",
              "    <div class=\"colab-df-container\">\n",
              "      <div>\n",
              "<style scoped>\n",
              "    .dataframe tbody tr th:only-of-type {\n",
              "        vertical-align: middle;\n",
              "    }\n",
              "\n",
              "    .dataframe tbody tr th {\n",
              "        vertical-align: top;\n",
              "    }\n",
              "\n",
              "    .dataframe thead th {\n",
              "        text-align: right;\n",
              "    }\n",
              "</style>\n",
              "<table border=\"1\" class=\"dataframe\">\n",
              "  <thead>\n",
              "    <tr style=\"text-align: right;\">\n",
              "      <th></th>\n",
              "      <th>Unnamed: 0</th>\n",
              "      <th>review_id</th>\n",
              "      <th>user_id</th>\n",
              "      <th>business_id</th>\n",
              "      <th>stars</th>\n",
              "      <th>useful</th>\n",
              "      <th>funny</th>\n",
              "      <th>cool</th>\n",
              "      <th>text</th>\n",
              "      <th>date</th>\n",
              "      <th>sentiment</th>\n",
              "    </tr>\n",
              "  </thead>\n",
              "  <tbody>\n",
              "    <tr>\n",
              "      <th>1</th>\n",
              "      <td>1</td>\n",
              "      <td>BiTunyQ73aT9WBnpR9DZGw</td>\n",
              "      <td>OyoGAe7OKpv6SyGZT5g77Q</td>\n",
              "      <td>7ATYjTIgM3jUlt4UM3IypQ</td>\n",
              "      <td>5.0</td>\n",
              "      <td>1</td>\n",
              "      <td>0</td>\n",
              "      <td>1</td>\n",
              "      <td>I've taken a lot of spin classes over the year...</td>\n",
              "      <td>2012-01-03 15:28:18</td>\n",
              "      <td>1</td>\n",
              "    </tr>\n",
              "    <tr>\n",
              "      <th>3</th>\n",
              "      <td>3</td>\n",
              "      <td>AqPFMleE6RsU23_auESxiA</td>\n",
              "      <td>_7bHUi9Uuf5__HHc_Q8guQ</td>\n",
              "      <td>kxX2SOes4o-D3ZQBkiMRfA</td>\n",
              "      <td>5.0</td>\n",
              "      <td>1</td>\n",
              "      <td>0</td>\n",
              "      <td>1</td>\n",
              "      <td>Wow!  Yummy, different,  delicious.   Our favo...</td>\n",
              "      <td>2015-01-04 00:01:03</td>\n",
              "      <td>1</td>\n",
              "    </tr>\n",
              "    <tr>\n",
              "      <th>4</th>\n",
              "      <td>4</td>\n",
              "      <td>Sx8TMOWLNuJBWer-0pcmoA</td>\n",
              "      <td>bcjbaE6dDog4jkNY91ncLQ</td>\n",
              "      <td>e4Vwtrqf-wpJfwesgvdgxQ</td>\n",
              "      <td>4.0</td>\n",
              "      <td>1</td>\n",
              "      <td>0</td>\n",
              "      <td>1</td>\n",
              "      <td>Cute interior and owner (?) gave us tour of up...</td>\n",
              "      <td>2017-01-14 20:54:15</td>\n",
              "      <td>1</td>\n",
              "    </tr>\n",
              "    <tr>\n",
              "      <th>6</th>\n",
              "      <td>6</td>\n",
              "      <td>6AxgBCNX_PNTOxmbRSwcKQ</td>\n",
              "      <td>r3zeYsv1XFBRA4dJpL78cw</td>\n",
              "      <td>gmjsEdUsKpj9Xxu6pdjH0g</td>\n",
              "      <td>5.0</td>\n",
              "      <td>0</td>\n",
              "      <td>2</td>\n",
              "      <td>0</td>\n",
              "      <td>Loved this tour! I grabbed a groupon and the p...</td>\n",
              "      <td>2015-01-03 23:21:18</td>\n",
              "      <td>1</td>\n",
              "    </tr>\n",
              "    <tr>\n",
              "      <th>7</th>\n",
              "      <td>7</td>\n",
              "      <td>_ZeMknuYdlQcUqng_Im3yg</td>\n",
              "      <td>yfFzsLmaWF2d4Sr0UNbBgg</td>\n",
              "      <td>LHSTtnW3YHCeUkRDGyJOyw</td>\n",
              "      <td>5.0</td>\n",
              "      <td>2</td>\n",
              "      <td>0</td>\n",
              "      <td>0</td>\n",
              "      <td>Amazingly amazing wings and homemade bleu chee...</td>\n",
              "      <td>2015-08-07 02:29:16</td>\n",
              "      <td>1</td>\n",
              "    </tr>\n",
              "    <tr>\n",
              "      <th>10</th>\n",
              "      <td>10</td>\n",
              "      <td>rGQRf8UafX7OTlMNN19I8A</td>\n",
              "      <td>1WHRWwQmZOZDAhp2Qyny4g</td>\n",
              "      <td>uMvVYRgGNXf5boolA9HXTw</td>\n",
              "      <td>5.0</td>\n",
              "      <td>2</td>\n",
              "      <td>0</td>\n",
              "      <td>0</td>\n",
              "      <td>My experience with Shalimar was nothing but wo...</td>\n",
              "      <td>2015-06-21 14:48:06</td>\n",
              "      <td>1</td>\n",
              "    </tr>\n",
              "    <tr>\n",
              "      <th>11</th>\n",
              "      <td>11</td>\n",
              "      <td>l3Wk_mvAog6XANIuGQ9C7Q</td>\n",
              "      <td>ZbqSHbgCjzVAqaa7NKWn5A</td>\n",
              "      <td>EQ-TZ2eeD_E0BHuvoaeG5Q</td>\n",
              "      <td>4.0</td>\n",
              "      <td>0</td>\n",
              "      <td>0</td>\n",
              "      <td>0</td>\n",
              "      <td>Locals recommended Milktooth, and it's an amaz...</td>\n",
              "      <td>2015-08-19 14:31:45</td>\n",
              "      <td>1</td>\n",
              "    </tr>\n",
              "    <tr>\n",
              "      <th>12</th>\n",
              "      <td>12</td>\n",
              "      <td>XW_LfMv0fV21l9c6xQd_lw</td>\n",
              "      <td>9OAtfnWag-ajVxRbUTGIyg</td>\n",
              "      <td>lj-E32x9_FA7GmUrBGBEWg</td>\n",
              "      <td>4.0</td>\n",
              "      <td>0</td>\n",
              "      <td>0</td>\n",
              "      <td>0</td>\n",
              "      <td>Love going here for happy hour or dinner!  Gre...</td>\n",
              "      <td>2014-06-27 22:44:01</td>\n",
              "      <td>1</td>\n",
              "    </tr>\n",
              "    <tr>\n",
              "      <th>13</th>\n",
              "      <td>13</td>\n",
              "      <td>8JFGBuHMoiNDyfcxuWNtrA</td>\n",
              "      <td>smOvOajNG0lS4Pq7d8g4JQ</td>\n",
              "      <td>RZtGWDLCAtuipwaZ-UfjmQ</td>\n",
              "      <td>4.0</td>\n",
              "      <td>0</td>\n",
              "      <td>0</td>\n",
              "      <td>0</td>\n",
              "      <td>Good food--loved the gnocchi with marinara\\nth...</td>\n",
              "      <td>2009-10-14 19:57:14</td>\n",
              "      <td>1</td>\n",
              "    </tr>\n",
              "    <tr>\n",
              "      <th>14</th>\n",
              "      <td>14</td>\n",
              "      <td>UBp0zWyH60Hmw6Fsasei7w</td>\n",
              "      <td>4Uh27DgGzsp6PqrH913giQ</td>\n",
              "      <td>otQS34_MymijPTdNBoBdCw</td>\n",
              "      <td>4.0</td>\n",
              "      <td>0</td>\n",
              "      <td>2</td>\n",
              "      <td>0</td>\n",
              "      <td>The bun makes the Sonoran Dog. It's like a snu...</td>\n",
              "      <td>2011-10-27 17:12:05</td>\n",
              "      <td>1</td>\n",
              "    </tr>\n",
              "  </tbody>\n",
              "</table>\n",
              "</div>\n",
              "      <button class=\"colab-df-convert\" onclick=\"convertToInteractive('df-2be0a9cb-3b59-4b2f-96aa-400f1837a106')\"\n",
              "              title=\"Convert this dataframe to an interactive table.\"\n",
              "              style=\"display:none;\">\n",
              "        \n",
              "  <svg xmlns=\"http://www.w3.org/2000/svg\" height=\"24px\"viewBox=\"0 0 24 24\"\n",
              "       width=\"24px\">\n",
              "    <path d=\"M0 0h24v24H0V0z\" fill=\"none\"/>\n",
              "    <path d=\"M18.56 5.44l.94 2.06.94-2.06 2.06-.94-2.06-.94-.94-2.06-.94 2.06-2.06.94zm-11 1L8.5 8.5l.94-2.06 2.06-.94-2.06-.94L8.5 2.5l-.94 2.06-2.06.94zm10 10l.94 2.06.94-2.06 2.06-.94-2.06-.94-.94-2.06-.94 2.06-2.06.94z\"/><path d=\"M17.41 7.96l-1.37-1.37c-.4-.4-.92-.59-1.43-.59-.52 0-1.04.2-1.43.59L10.3 9.45l-7.72 7.72c-.78.78-.78 2.05 0 2.83L4 21.41c.39.39.9.59 1.41.59.51 0 1.02-.2 1.41-.59l7.78-7.78 2.81-2.81c.8-.78.8-2.07 0-2.86zM5.41 20L4 18.59l7.72-7.72 1.47 1.35L5.41 20z\"/>\n",
              "  </svg>\n",
              "      </button>\n",
              "      \n",
              "  <style>\n",
              "    .colab-df-container {\n",
              "      display:flex;\n",
              "      flex-wrap:wrap;\n",
              "      gap: 12px;\n",
              "    }\n",
              "\n",
              "    .colab-df-convert {\n",
              "      background-color: #E8F0FE;\n",
              "      border: none;\n",
              "      border-radius: 50%;\n",
              "      cursor: pointer;\n",
              "      display: none;\n",
              "      fill: #1967D2;\n",
              "      height: 32px;\n",
              "      padding: 0 0 0 0;\n",
              "      width: 32px;\n",
              "    }\n",
              "\n",
              "    .colab-df-convert:hover {\n",
              "      background-color: #E2EBFA;\n",
              "      box-shadow: 0px 1px 2px rgba(60, 64, 67, 0.3), 0px 1px 3px 1px rgba(60, 64, 67, 0.15);\n",
              "      fill: #174EA6;\n",
              "    }\n",
              "\n",
              "    [theme=dark] .colab-df-convert {\n",
              "      background-color: #3B4455;\n",
              "      fill: #D2E3FC;\n",
              "    }\n",
              "\n",
              "    [theme=dark] .colab-df-convert:hover {\n",
              "      background-color: #434B5C;\n",
              "      box-shadow: 0px 1px 3px 1px rgba(0, 0, 0, 0.15);\n",
              "      filter: drop-shadow(0px 1px 2px rgba(0, 0, 0, 0.3));\n",
              "      fill: #FFFFFF;\n",
              "    }\n",
              "  </style>\n",
              "\n",
              "      <script>\n",
              "        const buttonEl =\n",
              "          document.querySelector('#df-2be0a9cb-3b59-4b2f-96aa-400f1837a106 button.colab-df-convert');\n",
              "        buttonEl.style.display =\n",
              "          google.colab.kernel.accessAllowed ? 'block' : 'none';\n",
              "\n",
              "        async function convertToInteractive(key) {\n",
              "          const element = document.querySelector('#df-2be0a9cb-3b59-4b2f-96aa-400f1837a106');\n",
              "          const dataTable =\n",
              "            await google.colab.kernel.invokeFunction('convertToInteractive',\n",
              "                                                     [key], {});\n",
              "          if (!dataTable) return;\n",
              "\n",
              "          const docLinkHtml = 'Like what you see? Visit the ' +\n",
              "            '<a target=\"_blank\" href=https://colab.research.google.com/notebooks/data_table.ipynb>data table notebook</a>'\n",
              "            + ' to learn more about interactive tables.';\n",
              "          element.innerHTML = '';\n",
              "          dataTable['output_type'] = 'display_data';\n",
              "          await google.colab.output.renderOutput(dataTable, element);\n",
              "          const docLink = document.createElement('div');\n",
              "          docLink.innerHTML = docLinkHtml;\n",
              "          element.appendChild(docLink);\n",
              "        }\n",
              "      </script>\n",
              "    </div>\n",
              "  </div>\n",
              "  "
            ]
          },
          "metadata": {},
          "execution_count": 6
        }
      ],
      "source": [
        "# Function to retrieve top few number of each category\n",
        "def get_top_data(top_n = 5000):\n",
        "    top_data_df_positive = top_data_df[top_data_df['sentiment'] == 1].head(top_n)\n",
        "    top_data_df_negative = top_data_df[top_data_df['sentiment'] == -1].head(top_n)\n",
        "    top_data_df_neutral = top_data_df[top_data_df['sentiment'] == 0].head(top_n)\n",
        "    top_data_df_small = pd.concat([top_data_df_positive, top_data_df_negative, top_data_df_neutral])\n",
        "    return top_data_df_small\n",
        "\n",
        "# Function call to get the top 10000 from each sentiment\n",
        "top_data_df_small = get_top_data(top_n=10000)\n",
        "\n",
        "# After selecting top few samples of each sentiment\n",
        "print(\"After segregating and taking equal number of rows for each sentiment:\")\n",
        "print(top_data_df_small['sentiment'].value_counts())\n",
        "top_data_df_small.head(10)"
      ]
    },
    {
      "cell_type": "code",
      "execution_count": null,
      "metadata": {
        "colab": {
          "base_uri": "https://localhost:8080/"
        },
        "id": "jTwAFxHBMOsm",
        "outputId": "bb588af0-fa0b-4212-b8b9-b6229607863a"
      },
      "outputs": [
        {
          "output_type": "stream",
          "name": "stdout",
          "text": [
            "Restaurant good service!!\n",
            "I like food!!\n",
            "This product good!!\n"
          ]
        }
      ],
      "source": [
        "from gensim.parsing.preprocessing import remove_stopwords\n",
        "print(remove_stopwords(\"Restaurant had a really good service!!\"))\n",
        "print(remove_stopwords(\"I did not like the food!!\"))\n",
        "print(remove_stopwords(\"This product is not good!!\"))"
      ]
    },
    {
      "cell_type": "code",
      "execution_count": 32,
      "metadata": {
        "colab": {
          "base_uri": "https://localhost:8080/"
        },
        "id": "BXZl0mUBMTXN",
        "outputId": "7b9aa288-264a-4e58-9436-09bc2d136e5e"
      },
      "outputs": [
        {
          "output_type": "stream",
          "name": "stdout",
          "text": [
            "1     [ve, taken, lot, of, spin, classes, over, the,...\n",
            "3     [wow, yummy, different, delicious, our, favori...\n",
            "4     [cute, interior, and, owner, gave, us, tour, o...\n",
            "6     [loved, this, tour, grabbed, groupon, and, the...\n",
            "7     [amazingly, amazing, wings, and, homemade, ble...\n",
            "10    [my, experience, with, shalimar, was, nothing,...\n",
            "11    [locals, recommended, milktooth, and, it, an, ...\n",
            "12    [love, going, here, for, happy, hour, or, dinn...\n",
            "13    [good, food, loved, the, gnocchi, with, marina...\n",
            "14    [the, bun, makes, the, sonoran, dog, it, like,...\n",
            "Name: tokenized_text, dtype: object\n"
          ]
        }
      ],
      "source": [
        "from gensim.utils import simple_preprocess\n",
        "# Tokenize the text column to get the new column 'tokenized_text'\n",
        "top_data_df_small['tokenized_text'] = [simple_preprocess(line, deacc=True) for line in top_data_df_small['text']] \n",
        "print(top_data_df_small['tokenized_text'].head(10))"
      ]
    },
    {
      "cell_type": "code",
      "execution_count": 33,
      "metadata": {
        "colab": {
          "base_uri": "https://localhost:8080/"
        },
        "id": "AF3mFRpoMW_v",
        "outputId": "c4c9c6a3-4875-42ec-eb8f-a3bf3f45e1d4"
      },
      "outputs": [
        {
          "output_type": "execute_result",
          "data": {
            "text/plain": [
              "1     [ve, taken, lot, of, spin, class, over, the, y...\n",
              "3     [wow, yummi, differ, delici, our, favorit, is,...\n",
              "4     [cute, interior, and, owner, gave, us, tour, o...\n",
              "6     [love, thi, tour, grab, groupon, and, the, pri...\n",
              "7     [amazingli, amaz, wing, and, homemad, bleu, ch...\n",
              "10    [my, experi, with, shalimar, wa, noth, but, wo...\n",
              "11    [local, recommend, milktooth, and, it, an, ama...\n",
              "12    [love, go, here, for, happi, hour, or, dinner,...\n",
              "13    [good, food, love, the, gnocchi, with, marinar...\n",
              "14    [the, bun, make, the, sonoran, dog, it, like, ...\n",
              "Name: stemmed_tokens, dtype: object"
            ]
          },
          "metadata": {},
          "execution_count": 33
        }
      ],
      "source": [
        "from gensim.parsing.porter import PorterStemmer\n",
        "porter_stemmer = PorterStemmer()\n",
        "# Get the stemmed_tokens\n",
        "top_data_df_small['stemmed_tokens'] = [[porter_stemmer.stem(word) for word in tokens] for tokens in top_data_df_small['tokenized_text'] ]\n",
        "top_data_df_small['stemmed_tokens'].head(10)"
      ]
    },
    {
      "cell_type": "code",
      "execution_count": 34,
      "metadata": {
        "colab": {
          "base_uri": "https://localhost:8080/"
        },
        "id": "ARY_iSGoM7XD",
        "outputId": "7e553a35-a891-40cc-df2a-12c4600fb746"
      },
      "outputs": [
        {
          "output_type": "stream",
          "name": "stdout",
          "text": [
            "Value counts for Train sentiments\n",
            " 1    7036\n",
            "-1    7008\n",
            " 0    6956\n",
            "Name: sentiment, dtype: int64\n",
            "Value counts for Test sentiments\n",
            " 0    3044\n",
            "-1    2992\n",
            " 1    2964\n",
            "Name: sentiment, dtype: int64\n",
            "<class 'pandas.core.frame.DataFrame'>\n",
            "<class 'pandas.core.series.Series'>\n",
            "   index             business_id  cool                 date  funny  \\\n",
            "0  41964  h7zxeLAdUyAO6S6UzXJDwA     0  2018-05-20 02:15:46      0   \n",
            "1  21237  ySXKjndttZjNy3kcqRqG3g     0  2015-12-20 20:30:12      0   \n",
            "2  43742  9gObo5ltOMo6UgsaXaHPWA     0  2015-12-05 23:57:22      0   \n",
            "3  35107  tvbFcYCEQWc76CUK-nBw8w     0  2018-07-27 08:09:21      0   \n",
            "4   2960  Yv6HUVu7fRMnt_NtGdVQBw     0  2018-06-19 18:16:51      0   \n",
            "\n",
            "                review_id  stars  \\\n",
            "0  xkcYjM_5w9rdSiN8_Qz_Tg    1.0   \n",
            "1  XIYnB19-LAI_yzJfB2d7eQ    3.0   \n",
            "2  Nm2XaG0sQ7p3LHoZG44cAg    1.0   \n",
            "3  L8Ape_IoEHiMjgiufwCp8Q    3.0   \n",
            "4  0uD1hdeUNPyfAaGOKpMMeQ    5.0   \n",
            "\n",
            "                                                text  useful  \\\n",
            "0  Kids talking and being disruptive during the w...       1   \n",
            "1  I've had the clam chowder here about 5 times. ...       1   \n",
            "2  Horrible service. We made a reservation on Yel...       0   \n",
            "3  Decent Korean barbeque, but subpar cold buckwh...       0   \n",
            "4  This is one of our favorite spots in Nashville...       0   \n",
            "\n",
            "                  user_id                                     stemmed_tokens  \n",
            "0  sZwPzjw85nriL8tf2k_yLw  [kid, talk, and, be, disrupt, dure, the, whole...  \n",
            "1  Xp3-2ZMn5mxD--SH7mBKag  [ve, had, the, clam, chowder, here, about, tim...  \n",
            "2  q_9dwLqRBM4FkxtMjHe3qQ  [horribl, servic, we, made, reserv, on, yelp, ...  \n",
            "3  c9QdM3JbLT5sCwQ4hGcHIQ  [decent, korean, barbequ, but, subpar, cold, b...  \n",
            "4  DWGywipRRede0hIpZ4tDag  [thi, is, on, of, our, favorit, spot, in, nash...  \n"
          ]
        }
      ],
      "source": [
        "from sklearn.model_selection import train_test_split\n",
        "# Train Test Split Function\n",
        "def split_train_test(top_data_df_small, test_size=0.3, shuffle_state=True):\n",
        "    X_train, X_test, Y_train, Y_test = train_test_split(top_data_df_small[['business_id', 'cool', 'date', 'funny', 'review_id', 'stars', 'text', 'useful', 'user_id', 'stemmed_tokens']], \n",
        "                                                        top_data_df_small['sentiment'], \n",
        "                                                        shuffle=shuffle_state,\n",
        "                                                        test_size=test_size, \n",
        "                                                        random_state=15)\n",
        "    print(\"Value counts for Train sentiments\")\n",
        "    print(Y_train.value_counts())\n",
        "    print(\"Value counts for Test sentiments\")\n",
        "    print(Y_test.value_counts())\n",
        "    print(type(X_train))\n",
        "    print(type(Y_train))\n",
        "    X_train = X_train.reset_index()\n",
        "    X_test = X_test.reset_index()\n",
        "    Y_train = Y_train.to_frame()\n",
        "    Y_train = Y_train.reset_index()\n",
        "    Y_test = Y_test.to_frame()\n",
        "    Y_test = Y_test.reset_index()\n",
        "    print(X_train.head())\n",
        "    return X_train, X_test, Y_train, Y_test\n",
        "\n",
        "# Call the train_test_split\n",
        "X_train, X_test, Y_train, Y_test = split_train_test(top_data_df_small)"
      ]
    },
    {
      "cell_type": "code",
      "execution_count": null,
      "metadata": {
        "colab": {
          "base_uri": "https://localhost:8080/"
        },
        "id": "kcG_yH--NAd7",
        "outputId": "8baa947b-83b0-412b-bd15-85f473c2e48d"
      },
      "outputs": [
        {
          "name": "stdout",
          "output_type": "stream",
          "text": [
            "Device available for running: \n",
            "cuda\n"
          ]
        }
      ],
      "source": [
        "import torch.nn as nn\n",
        "import torch.nn.functional as F\n",
        "import torch.optim as optim\n",
        "\n",
        "import torch\n",
        "# Use cuda if present\n",
        "device = torch.device(\"cuda\" if torch.cuda.is_available() else \"cpu\")\n",
        "print(\"Device available for running: \")\n",
        "print(device)"
      ]
    },
    {
      "cell_type": "code",
      "execution_count": 15,
      "metadata": {
        "colab": {
          "base_uri": "https://localhost:8080/"
        },
        "id": "oDnBUZ4xOXUR",
        "outputId": "86f2e6a4-627a-40ff-895c-1026948ec671"
      },
      "outputs": [
        {
          "output_type": "stream",
          "name": "stdout",
          "text": [
            "30000\n"
          ]
        }
      ],
      "source": [
        "from gensim.models import Word2Vec\n",
        "size = 500\n",
        "window = 3\n",
        "min_count = 1\n",
        "workers = 3\n",
        "sg = 1\n",
        "OUTPUT_FOLDER = '/content/drive/MyDrive/NLP_HW2'\n",
        "# Function to train word2vec model\n",
        "def make_word2vec_model(top_data_df_small, padding=True, sg=1, min_count=1, size=500, workers=3, window=3):\n",
        "    if  padding:\n",
        "        print(len(top_data_df_small))\n",
        "        temp_df = pd.Series(top_data_df_small['stemmed_tokens']).values\n",
        "        temp_df = list(temp_df)\n",
        "        temp_df.append(['pad'])\n",
        "        word2vec_file = OUTPUT_FOLDER + '/models/'+'word2vec_' + str(size) + '_PAD.model'\n",
        "    else:\n",
        "        temp_df = top_data_df_small['stemmed_tokens']\n",
        "        word2vec_file = OUTPUT_FOLDER + '/models/' + 'word2vec_' + str(size) + '.model'\n",
        "    w2v_model = Word2Vec(temp_df, min_count = min_count, vector_size=size, workers = workers, window = window, sg = sg)\n",
        "\n",
        "    w2v_model.save(word2vec_file)\n",
        "    return w2v_model, word2vec_file\n",
        "\n",
        "# Train Word2vec model\n",
        "w2vmodel, word2vec_file = make_word2vec_model(top_data_df_small, padding=True, sg=sg, min_count=min_count, size=size, workers=workers, window=window)"
      ]
    },
    {
      "cell_type": "code",
      "execution_count": 41,
      "metadata": {
        "id": "eukABm9upqjC"
      },
      "outputs": [],
      "source": [
        "max_sen_len = top_data_df_small.stemmed_tokens.map(len).max()\n",
        "padding_idx = w2vmodel.wv.key_to_index['pad']\n",
        "def make_word2vec_vector_cnn(sentence):\n",
        "    padded_X = [padding_idx for i in range(max_sen_len)]\n",
        "    i = 0\n",
        "    for word in sentence:\n",
        "        if word not in w2vmodel.wv.key_to_index:\n",
        "            padded_X[i] = 0\n",
        "            print(word)\n",
        "        else:\n",
        "            padded_X[i] = w2vmodel.wv.key_to_index[word]\n",
        "        i += 1\n",
        "    return torch.tensor(padded_X, dtype=torch.long, device=device).view(1, -1)"
      ]
    },
    {
      "cell_type": "code",
      "execution_count": 42,
      "metadata": {
        "id": "Y0XHesX5qP2Q"
      },
      "outputs": [],
      "source": [
        "# Function to get the output tensor\n",
        "def make_target(label):\n",
        "    if label == -1:\n",
        "        return torch.tensor([0], dtype=torch.long, device=device)\n",
        "    elif label == 0:\n",
        "        return torch.tensor([1], dtype=torch.long, device=device)\n",
        "    else:\n",
        "        return torch.tensor([2], dtype=torch.long, device=device)"
      ]
    },
    {
      "cell_type": "code",
      "execution_count": 20,
      "metadata": {
        "id": "fFCIrxkHqSkF"
      },
      "outputs": [],
      "source": [
        "EMBEDDING_SIZE = 500\n",
        "NUM_FILTERS = 10\n",
        "\n",
        "import gensim\n",
        "import torch.nn as nn\n",
        "\n",
        "\n",
        "class CnnTextClassifier(nn.Module):\n",
        "    def __init__(self, vocab_size, num_classes, window_sizes=(1,2,3,5)):\n",
        "        super(CnnTextClassifier, self).__init__()\n",
        "        w2vmodel = gensim.models.KeyedVectors.load('/content/drive/MyDrive/NLP_HW2'+ '/models/' + 'word2vec_500_PAD.model')\n",
        "        weights = w2vmodel.wv\n",
        "        # With pretrained embeddings\n",
        "        self.embedding = nn.Embedding.from_pretrained(torch.FloatTensor(weights.vectors), padding_idx=w2vmodel.wv.key_to_index['pad'])\n",
        "        # Without pretrained embeddings\n",
        "        # self.embedding = nn.Embedding(vocab_size, EMBEDDING_SIZE)\n",
        "\n",
        "        self.convs = nn.ModuleList([\n",
        "                                   nn.Conv2d(1, NUM_FILTERS, [window_size, EMBEDDING_SIZE], padding=(window_size - 1, 0))\n",
        "                                   for window_size in window_sizes\n",
        "        ])\n",
        "\n",
        "        self.fc = nn.Linear(NUM_FILTERS * len(window_sizes), num_classes)\n",
        "\n",
        "    def forward(self, x):\n",
        "        x = self.embedding(x) # [B, T, E]\n",
        "\n",
        "        # Apply a convolution + max_pool layer for each window size\n",
        "        x = torch.unsqueeze(x, 1)\n",
        "        xs = []\n",
        "        for conv in self.convs:\n",
        "            x2 = torch.tanh(conv(x))\n",
        "            x2 = torch.squeeze(x2, -1)\n",
        "            x2 = F.max_pool1d(x2, x2.size(2))\n",
        "            xs.append(x2)\n",
        "        x = torch.cat(xs, 2)\n",
        "\n",
        "        # FC\n",
        "        x = x.view(x.size(0), -1)\n",
        "        logits = self.fc(x)\n",
        "\n",
        "        probs = F.softmax(logits, dim = 1)\n",
        "\n",
        "        return probs\n",
        "     "
      ]
    },
    {
      "cell_type": "code",
      "source": [
        "!mkdir -p /content/drive/MyDrive/NLP_HW2/plots/\n"
      ],
      "metadata": {
        "id": "zLHaB7FiAG7x"
      },
      "execution_count": 28,
      "outputs": []
    },
    {
      "cell_type": "code",
      "source": [
        "def make_word2vec_vector_cnn(sentence, max_sen_len):\n",
        "    padding_idx = w2vmodel.wv.key_to_index['pad']\n",
        "    padded_X = [padding_idx for i in range(max_sen_len)]\n",
        "    i = 0\n",
        "    for word in sentence:\n",
        "        if i >= max_sen_len:\n",
        "            break\n",
        "        if word in w2vmodel.wv.key_to_index:\n",
        "            padded_X[i] = w2vmodel.wv.key_to_index[word]\n",
        "        i += 1\n",
        "    return torch.tensor(padded_X, dtype=torch.long).to(device)\n"
      ],
      "metadata": {
        "id": "ZCpOSCY6C2uv"
      },
      "execution_count": 37,
      "outputs": []
    },
    {
      "cell_type": "code",
      "execution_count": 44,
      "metadata": {
        "colab": {
          "base_uri": "https://localhost:8080/"
        },
        "id": "TFJto64sqV-Y",
        "outputId": "a6c7ebea-b28a-43f2-83df-85f18caa4101"
      },
      "outputs": [
        {
          "output_type": "stream",
          "name": "stdout",
          "text": [
            "Epoch1\n",
            "Epoch ran :1\n",
            "Epoch2\n",
            "Epoch ran :2\n",
            "Epoch3\n",
            "Epoch ran :3\n",
            "Epoch4\n",
            "Epoch ran :4\n",
            "Epoch5\n",
            "Epoch ran :5\n",
            "Epoch6\n",
            "Epoch ran :6\n",
            "Epoch7\n",
            "Epoch ran :7\n",
            "Epoch8\n",
            "Epoch ran :8\n",
            "Epoch9\n",
            "Epoch ran :9\n",
            "Epoch10\n",
            "Epoch ran :10\n",
            "Epoch11\n",
            "Epoch ran :11\n",
            "Epoch12\n",
            "Epoch ran :12\n",
            "Epoch13\n",
            "Epoch ran :13\n",
            "Epoch14\n",
            "Epoch ran :14\n",
            "Epoch15\n",
            "Epoch ran :15\n",
            "Epoch16\n",
            "Epoch ran :16\n",
            "Epoch17\n",
            "Epoch ran :17\n",
            "Epoch18\n",
            "Epoch ran :18\n",
            "Epoch19\n",
            "Epoch ran :19\n",
            "Epoch20\n",
            "Epoch ran :20\n",
            "Epoch21\n",
            "Epoch ran :21\n",
            "Epoch22\n",
            "Epoch ran :22\n",
            "Epoch23\n",
            "Epoch ran :23\n",
            "Epoch24\n",
            "Epoch ran :24\n",
            "Epoch25\n",
            "Epoch ran :25\n",
            "Epoch26\n",
            "Epoch ran :26\n",
            "Epoch27\n",
            "Epoch ran :27\n",
            "Epoch28\n",
            "Epoch ran :28\n",
            "Epoch29\n",
            "Epoch ran :29\n",
            "Epoch30\n",
            "Epoch ran :30\n",
            "Input vector\n",
            "[[  34  288 2478    1  175   22    7  201    1  248   86  188   12   78\n",
            "   997  272 1113 1113 1113 1113 1113 1113 1113 1113 1113 1113 1113 1113\n",
            "  1113 1113 1113 1113 1113 1113 1113 1113 1113 1113 1113 1113 1113 1113\n",
            "  1113 1113 1113 1113 1113 1113 1113 1113 1113 1113 1113 1113 1113 1113\n",
            "  1113 1113 1113 1113 1113 1113 1113 1113 1113 1113 1113 1113 1113 1113\n",
            "  1113 1113 1113 1113 1113 1113 1113 1113 1113 1113 1113 1113 1113 1113\n",
            "  1113 1113 1113 1113 1113 1113 1113 1113 1113 1113 1113 1113 1113 1113\n",
            "  1113 1113 1113 1113 1113 1113 1113 1113 1113 1113 1113 1113 1113 1113\n",
            "  1113 1113 1113 1113 1113 1113 1113 1113 1113 1113 1113 1113 1113 1113\n",
            "  1113 1113 1113 1113 1113 1113 1113 1113 1113 1113 1113 1113 1113 1113\n",
            "  1113 1113 1113 1113 1113 1113 1113 1113 1113 1113 1113 1113 1113 1113\n",
            "  1113 1113 1113 1113 1113 1113 1113 1113 1113 1113 1113 1113 1113 1113\n",
            "  1113 1113 1113 1113 1113 1113 1113 1113 1113 1113 1113 1113 1113 1113\n",
            "  1113 1113 1113 1113 1113 1113 1113 1113 1113 1113 1113 1113 1113 1113\n",
            "  1113 1113 1113 1113 1113 1113 1113 1113 1113 1113 1113 1113 1113 1113\n",
            "  1113 1113 1113 1113 1113 1113 1113 1113 1113 1113 1113 1113 1113 1113\n",
            "  1113 1113 1113 1113 1113 1113 1113 1113 1113 1113 1113 1113 1113 1113\n",
            "  1113 1113 1113 1113 1113 1113 1113 1113 1113 1113 1113 1113 1113 1113\n",
            "  1113 1113 1113 1113 1113 1113 1113 1113 1113 1113 1113 1113 1113 1113\n",
            "  1113 1113 1113 1113 1113 1113 1113 1113 1113 1113 1113 1113 1113 1113\n",
            "  1113 1113 1113 1113 1113 1113 1113 1113 1113 1113 1113 1113 1113 1113\n",
            "  1113 1113 1113 1113 1113 1113 1113 1113 1113 1113 1113 1113 1113 1113\n",
            "  1113 1113 1113 1113 1113 1113 1113 1113 1113 1113 1113 1113 1113 1113\n",
            "  1113 1113 1113 1113 1113 1113 1113 1113 1113 1113 1113 1113 1113 1113\n",
            "  1113 1113 1113 1113 1113 1113 1113 1113 1113 1113 1113 1113 1113 1113\n",
            "  1113 1113 1113 1113 1113 1113 1113 1113 1113 1113 1113 1113 1113 1113\n",
            "  1113 1113 1113 1113 1113 1113 1113 1113 1113 1113 1113 1113 1113 1113\n",
            "  1113 1113 1113 1113 1113 1113 1113 1113 1113 1113 1113 1113 1113 1113\n",
            "  1113 1113 1113 1113 1113 1113 1113 1113 1113 1113 1113 1113 1113 1113\n",
            "  1113 1113 1113 1113 1113 1113 1113 1113 1113 1113 1113 1113 1113 1113\n",
            "  1113 1113 1113 1113 1113 1113 1113 1113 1113 1113 1113 1113 1113 1113\n",
            "  1113 1113 1113 1113 1113 1113 1113 1113 1113 1113 1113 1113 1113 1113\n",
            "  1113 1113 1113 1113 1113 1113 1113 1113 1113 1113 1113 1113 1113 1113\n",
            "  1113 1113 1113 1113 1113 1113 1113 1113 1113 1113 1113 1113 1113 1113\n",
            "  1113 1113 1113 1113 1113 1113 1113 1113 1113 1113 1113 1113 1113 1113\n",
            "  1113 1113 1113 1113 1113 1113 1113 1113 1113 1113 1113 1113 1113 1113\n",
            "  1113 1113 1113 1113 1113 1113 1113 1113 1113 1113 1113 1113 1113 1113\n",
            "  1113 1113 1113 1113 1113 1113 1113 1113 1113 1113 1113 1113 1113 1113\n",
            "  1113 1113 1113 1113 1113 1113 1113 1113 1113 1113 1113 1113 1113 1113\n",
            "  1113 1113 1113 1113 1113 1113 1113 1113 1113 1113 1113 1113 1113 1113\n",
            "  1113 1113 1113 1113 1113 1113 1113 1113 1113 1113 1113 1113 1113 1113\n",
            "  1113 1113 1113 1113 1113 1113 1113 1113 1113 1113 1113 1113 1113 1113\n",
            "  1113 1113 1113 1113 1113 1113 1113 1113 1113 1113 1113 1113 1113 1113\n",
            "  1113 1113 1113 1113 1113 1113 1113 1113 1113 1113 1113 1113 1113 1113\n",
            "  1113 1113 1113 1113 1113 1113 1113 1113 1113 1113 1113 1113 1113 1113\n",
            "  1113 1113 1113 1113 1113 1113 1113 1113 1113 1113 1113 1113 1113 1113\n",
            "  1113 1113 1113 1113 1113 1113 1113 1113 1113 1113 1113 1113 1113 1113\n",
            "  1113 1113 1113 1113 1113 1113 1113 1113 1113 1113 1113 1113 1113 1113\n",
            "  1113 1113 1113 1113 1113 1113 1113 1113 1113 1113 1113 1113 1113 1113\n",
            "  1113 1113 1113 1113 1113 1113 1113 1113 1113 1113 1113 1113 1113 1113\n",
            "  1113 1113 1113 1113 1113 1113 1113 1113 1113 1113 1113 1113 1113 1113\n",
            "  1113 1113 1113 1113 1113 1113 1113 1113 1113 1113 1113 1113 1113 1113\n",
            "  1113 1113 1113 1113 1113 1113 1113 1113 1113 1113 1113 1113 1113 1113\n",
            "  1113 1113 1113 1113 1113 1113 1113 1113 1113 1113 1113 1113 1113 1113\n",
            "  1113 1113 1113 1113 1113 1113 1113 1113 1113 1113 1113 1113 1113 1113\n",
            "  1113 1113 1113 1113 1113 1113 1113 1113 1113 1113 1113 1113 1113 1113\n",
            "  1113 1113 1113 1113 1113 1113 1113 1113 1113 1113 1113 1113 1113 1113\n",
            "  1113 1113 1113 1113 1113 1113 1113 1113 1113 1113 1113 1113 1113 1113\n",
            "  1113 1113 1113 1113 1113 1113 1113 1113 1113 1113 1113 1113 1113 1113\n",
            "  1113 1113 1113 1113 1113 1113 1113 1113 1113 1113 1113 1113 1113 1113\n",
            "  1113 1113 1113 1113 1113 1113 1113 1113 1113 1113 1113 1113 1113 1113\n",
            "  1113 1113 1113 1113 1113 1113 1113 1113 1113 1113 1113 1113 1113 1113\n",
            "  1113 1113 1113 1113 1113 1113 1113 1113 1113 1113 1113 1113 1113 1113\n",
            "  1113 1113 1113 1113 1113 1113 1113 1113 1113 1113 1113 1113 1113 1113\n",
            "  1113 1113 1113 1113 1113 1113 1113 1113 1113 1113 1113 1113 1113 1113\n",
            "  1113 1113 1113 1113 1113 1113 1113 1113 1113 1113 1113 1113 1113 1113\n",
            "  1113 1113 1113]]\n",
            "Probs\n",
            "tensor([[1.4090e-20, 5.1678e-08, 1.0000e+00]], device='cuda:0',\n",
            "       grad_fn=<SoftmaxBackward0>)\n",
            "2\n"
          ]
        }
      ],
      "source": [
        "import torch\n",
        "import torch.optim as optim\n",
        "import torch.nn.functional as F\n",
        "\n",
        "device = torch.device('cuda' if torch.cuda.is_available() else 'cpu')\n",
        "\n",
        "NUM_CLASSES = 3\n",
        "vocab_len = len(w2vmodel.wv)\n",
        "\n",
        "cnn_model = CnnTextClassifier(vocab_size=vocab_len, num_classes=NUM_CLASSES)\n",
        "cnn_model.to(device)\n",
        "loss_function = nn.CrossEntropyLoss()\n",
        "optimizer = optim.Adam(cnn_model.parameters(), lr=0.001)\n",
        "num_epochs = 30\n",
        "\n",
        "# Open the file for writing loss\n",
        "loss_file_name = '/content/drive/MyDrive/NLP_HW2' +  '/plots/' + 'cnn_class_big_loss_with_padding.csv'\n",
        "f = open(loss_file_name,'w')\n",
        "f.write('iter, loss')\n",
        "f.write('\\n')\n",
        "losses = []\n",
        "cnn_model.train()\n",
        "for epoch in range(num_epochs):\n",
        "    print(\"Epoch\" + str(epoch + 1))\n",
        "    train_loss = 0\n",
        "    for index, row in X_train.iterrows():\n",
        "        # Clearing the accumulated gradients\n",
        "        cnn_model.zero_grad()\n",
        "\n",
        "        # Make the bag of words vector for stemmed tokens \n",
        "        bow_vec = make_word2vec_vector_cnn(row['stemmed_tokens'])\n",
        "       \n",
        "        # Forward pass to get output\n",
        "        probs = cnn_model(bow_vec)\n",
        "\n",
        "        # Get the target label\n",
        "        target = make_target(Y_train['sentiment'][index])\n",
        "\n",
        "        # Calculate Loss: softmax --> cross entropy loss\n",
        "        loss = loss_function(probs, target)\n",
        "        train_loss += loss.item()\n",
        "\n",
        "        # Getting gradients w.r.t. parameters\n",
        "        loss.backward()\n",
        "\n",
        "        # Updating parameters\n",
        "        optimizer.step()\n",
        "\n",
        "\n",
        "    # if index == 0:\n",
        "    #     continue\n",
        "    print(\"Epoch ran :\"+ str(epoch+1))\n",
        "    f.write(str((epoch+1)) + \",\" + str(train_loss / len(X_train)))\n",
        "    f.write('\\n')\n",
        "    train_loss = 0\n",
        "\n",
        "torch.save(cnn_model, '/content/drive/MyDrive/NLP_HW2' +'/' +'cnn_big_model_500_with_padding.pth')\n",
        "\n",
        "f.close()\n",
        "print(\"Input vector\")\n",
        "print(bow_vec.cpu().numpy())\n",
        "print(\"Probs\")\n",
        "print(probs)\n",
        "print(torch.argmax(probs, dim=1).cpu().numpy()[0])"
      ]
    },
    {
      "cell_type": "code",
      "source": [
        "from sklearn.metrics import classification_report\n",
        "bow_cnn_predictions = []\n",
        "original_lables_cnn_bow = []\n",
        "cnn_model.eval()\n",
        "loss_df = pd.read_csv('/content/drive/MyDrive/NLP_HW2/plots/' + 'cnn_class_big_loss_with_padding.csv')\n",
        "print(loss_df.columns)\n",
        "# loss_df.plot('loss')\n",
        "with torch.no_grad():\n",
        "    for index, row in X_test.iterrows():\n",
        "        bow_vec = make_word2vec_vector_cnn(row['stemmed_tokens'])\n",
        "        probs = cnn_model(bow_vec)\n",
        "        _, predicted = torch.max(probs.data, 1)\n",
        "        bow_cnn_predictions.append(predicted.cpu().numpy()[0])\n",
        "        original_lables_cnn_bow.append(make_target(Y_test['sentiment'][index]).cpu().numpy()[0])\n",
        "print(classification_report(original_lables_cnn_bow,bow_cnn_predictions))\n",
        "loss_file_name = '/content/drive/MyDrive/NLP_HW2/' +  'plots/' + 'cnn_class_big_loss_with_padding.csv'\n",
        "loss_df = pd.read_csv(loss_file_name)\n",
        "print(loss_df.columns)\n",
        "plt_500_padding_30_epochs = loss_df[' loss'].plot()\n",
        "fig = plt_500_padding_30_epochs.get_figure()\n",
        "fig.savefig('/content/drive/MyDrive/NLP_HW2/' +'plots/' + 'loss_plt_500_padding_30_epochs.pdf')"
      ],
      "metadata": {
        "colab": {
          "base_uri": "https://localhost:8080/",
          "height": 638
        },
        "id": "Lshl8ginMhEl",
        "outputId": "09609a2d-165d-40d8-a8b0-4d24fd7e887e"
      },
      "execution_count": 50,
      "outputs": [
        {
          "output_type": "stream",
          "name": "stdout",
          "text": [
            "Index(['iter', ' loss'], dtype='object')\n",
            "              precision    recall  f1-score   support\n",
            "\n",
            "           0       0.78      0.74      0.76      2992\n",
            "           1       0.65      0.57      0.61      3044\n",
            "           2       0.72      0.84      0.77      2964\n",
            "\n",
            "    accuracy                           0.71      9000\n",
            "   macro avg       0.71      0.72      0.71      9000\n",
            "weighted avg       0.71      0.71      0.71      9000\n",
            "\n",
            "Index(['iter', ' loss'], dtype='object')\n"
          ]
        },
        {
          "output_type": "display_data",
          "data": {
            "text/plain": [
              "<Figure size 640x480 with 1 Axes>"
            ],
            "image/png": "[encoded data removed]"
          },
          "metadata": {}
        }
      ]
    }
  ],
  "metadata": {
    "accelerator": "GPU",
    "colab": {
      "machine_shape": "hm",
      "provenance": []
    },
    "gpuClass": "standard",
    "kernelspec": {
      "display_name": "Python 3",
      "name": "python3"
    },
    "language_info": {
      "name": "python"
    }
  },
  "nbformat": 4,
  "nbformat_minor": 0
}